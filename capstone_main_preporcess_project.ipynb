{
 "cells": [
  {
   "cell_type": "code",
   "execution_count": 1,
   "metadata": {
    "collapsed": false
   },
   "outputs": [],
   "source": [
    "from __future__ import print_function\n",
    "import matplotlib.pyplot as plt\n",
    "import numpy as np\n",
    "import os\n",
    "import sys\n",
    "import tarfile\n",
    "import tensorflow as tf\n",
    "from IPython.display import display, Image\n",
    "from scipy import ndimage\n",
    "from six.moves.urllib.request import urlretrieve\n",
    "from six.moves import cPickle as pickle\n",
    "%matplotlib inline"
   ]
  },
  {
   "cell_type": "code",
   "execution_count": 2,
   "metadata": {
    "collapsed": false
   },
   "outputs": [
    {
     "name": "stdout",
     "output_type": "stream",
     "text": [
      "Size of train.tar.gz :  404141560\n",
      "Size of test.tar.gz :  276555967\n",
      "Size of extra.tar.gz :  1955489752\n"
     ]
    }
   ],
   "source": [
    "url = 'http://ufldl.stanford.edu/housenumbers/'\n",
    "import urllib    \n",
    "\n",
    "tar_data_list=['train.tar.gz','test.tar.gz','extra.tar.gz']\n",
    "for sample_data in tar_data_list:\n",
    "    print (\"Size of \"+sample_data +\" : \",urllib.urlopen(url+sample_data).info()['Content-Length'])   "
   ]
  },
  {
   "cell_type": "code",
   "execution_count": 3,
   "metadata": {
    "collapsed": false
   },
   "outputs": [
    {
     "name": "stdout",
     "output_type": "stream",
     "text": [
      "Found and verified train.tar.gz\n",
      "Found and verified test.tar.gz\n",
      "Found and verified extra.tar.gz\n"
     ]
    }
   ],
   "source": [
    "def maybe_download(filename, expected_bytes):\n",
    "#   \"\"\"Download a file if not present, and make sure it's the right size.\"\"\"\n",
    "  if not os.path.exists(filename):\n",
    "    filename, _ = urllib.urlretrieve(url + filename, filename)\n",
    "  statinfo_size = os.stat(filename).st_size\n",
    "  if statinfo_size == expected_bytes:\n",
    "    print ('Found and verified', filename)\n",
    "  else:\n",
    "    raise Exception(\n",
    "      'Failed to verify' + filename + '. Can you get to it with a browser?')\n",
    "  return filename\n",
    "    \n",
    "train_filename = maybe_download('train.tar.gz',404141560)  #TODO\n",
    "test_filename = maybe_download('test.tar.gz',276555967)  #TODO\n",
    "extra_filename = maybe_download('extra.tar.gz',1955489752)"
   ]
  },
  {
   "cell_type": "code",
   "execution_count": 4,
   "metadata": {
    "collapsed": false
   },
   "outputs": [
    {
     "name": "stdout",
     "output_type": "stream",
     "text": [
      "train already present - Skipping extraction of train.tar.gz.\n",
      "train\n",
      "test already present - Skipping extraction of test.tar.gz.\n",
      "test\n",
      "extra already present - Skipping extraction of extra.tar.gz.\n",
      "extra\n"
     ]
    }
   ],
   "source": [
    "np.random.seed(133)\n",
    "\n",
    "def maybe_extract(filename, force=False):\n",
    "  root = os.path.splitext(os.path.splitext(filename)[0])[0]  # remove .tar.gz\n",
    "  if os.path.isdir(root) and not force:\n",
    "    # You may override by setting force=True.\n",
    "    print('%s already present - Skipping extraction of %s.' % (root, filename))\n",
    "  else:\n",
    "    print('Extracting data for %s. This may take a while. Please wait.' % root)\n",
    "    tar = tarfile.open(filename)\n",
    "    sys.stdout.flush()\n",
    "    tar.extractall()\n",
    "    tar.close()\n",
    "  data_folders = root\n",
    "  print(data_folders)\n",
    "  return data_folders\n",
    "  \n",
    "train_folders = maybe_extract(train_filename)\n",
    "test_folders = maybe_extract(test_filename)\n",
    "extra_folders = maybe_extract(extra_filename)"
   ]
  },
  {
   "cell_type": "code",
   "execution_count": 5,
   "metadata": {
    "collapsed": false
   },
   "outputs": [],
   "source": [
    "#!pip install h5py"
   ]
  },
  {
   "cell_type": "code",
   "execution_count": 6,
   "metadata": {
    "collapsed": false
   },
   "outputs": [],
   "source": [
    "#Reference from udacity Forum: https://discussions.udacity.com/t/how-to-deal-with-mat-files/160657\n",
    "import h5py\n",
    "\n",
    "# The DigitStructFile is just a wrapper around the h5py data.  It basically references \n",
    "#    inf:              The input h5 matlab file\n",
    "#    digitStructName   The h5 ref to all the file names\n",
    "#    digitStructBbox   The h5 ref to all struc data\n",
    "class DigitStructFile:\n",
    "    def __init__(self, inf):\n",
    "        self.inf = h5py.File(inf, 'r')\n",
    "        self.digitStructName = self.inf['digitStruct']['name']\n",
    "        self.digitStructBbox = self.inf['digitStruct']['bbox']\n",
    "\n",
    "# getName returns the 'name' string for for the n(th) digitStruct. \n",
    "    def getName(self,n):\n",
    "        return ''.join([chr(c[0]) for c in self.inf[self.digitStructName[n][0]].value])\n",
    "\n",
    "# bboxHelper handles the coding difference when there is exactly one bbox or an array of bbox. \n",
    "    def bboxHelper(self,attr):\n",
    "        if (len(attr) > 1):\n",
    "            attr = [self.inf[attr.value[j].item()].value[0][0] for j in range(len(attr))]\n",
    "        else:\n",
    "            attr = [attr.value[0][0]]\n",
    "        return attr\n",
    "\n",
    "# getBbox returns a dict of data for the n(th) bbox. \n",
    "    def getBbox(self,n):\n",
    "        bbox = {}\n",
    "        bb = self.digitStructBbox[n].item()\n",
    "        bbox['height'] = self.bboxHelper(self.inf[bb][\"height\"])\n",
    "        bbox['label'] = self.bboxHelper(self.inf[bb][\"label\"])\n",
    "        bbox['left'] = self.bboxHelper(self.inf[bb][\"left\"])\n",
    "        bbox['top'] = self.bboxHelper(self.inf[bb][\"top\"])\n",
    "        bbox['width'] = self.bboxHelper(self.inf[bb][\"width\"])\n",
    "        return bbox\n",
    "\n",
    "    def getDigitStructure(self,n):\n",
    "        s = self.getBbox(n)\n",
    "        s['name']=self.getName(n)\n",
    "        return s\n",
    "\n",
    "# getAllDigitStructure returns all the digitStruct from the input file.     \n",
    "    def getAllDigitStructure(self):\n",
    "        return [self.getDigitStructure(i) for i in range(len(self.digitStructName))]\n",
    "\n",
    "# Return a restructured version of the dataset (one structure by boxed digit).\n",
    "#\n",
    "#   Return a list of such dicts :\n",
    "#      'filename' : filename of the samples\n",
    "#      'boxes' : list of such dicts (one by digit) :\n",
    "#          'label' : 1 to 9 corresponding digits. 10 for digit '0' in image.\n",
    "#          'left', 'top' : position of bounding box\n",
    "#          'width', 'height' : dimension of bounding box\n",
    "#\n",
    "# Note: We may turn this to a generator, if memory issues arise.\n",
    "    def getAllDigitStructure_ByDigit(self):\n",
    "        pictDat = self.getAllDigitStructure()\n",
    "        result = []\n",
    "        structCnt = 1\n",
    "        for i in range(len(pictDat)):\n",
    "            item = { 'filename' : pictDat[i][\"name\"] }\n",
    "            figures = []\n",
    "            for j in range(len(pictDat[i]['height'])):\n",
    "               figure = {}\n",
    "               figure['height'] = pictDat[i]['height'][j]\n",
    "               figure['label']  = pictDat[i]['label'][j]\n",
    "               figure['left']   = pictDat[i]['left'][j]\n",
    "               figure['top']    = pictDat[i]['top'][j]\n",
    "               figure['width']  = pictDat[i]['width'][j]\n",
    "               figures.append(figure)\n",
    "            structCnt = structCnt + 1\n",
    "            item['boxes'] = figures\n",
    "            result.append(item)\n",
    "        return result"
   ]
  },
  {
   "cell_type": "code",
   "execution_count": 7,
   "metadata": {
    "collapsed": false
   },
   "outputs": [
    {
     "name": "stdout",
     "output_type": "stream",
     "text": [
      "<type 'list'>\n"
     ]
    }
   ],
   "source": [
    "train_folders = 'train'\n",
    "test_folders = 'test'\n",
    "extra_folders = 'extra'\n",
    "#train_data creation from digitSturct.mat\n",
    "fin = os.path.join(train_folders, 'digitStruct.mat')\n",
    "dsf = DigitStructFile(fin)\n",
    "train_data = dsf.getAllDigitStructure_ByDigit()\n",
    "\n",
    "print (type(train_data))   #type is list"
   ]
  },
  {
   "cell_type": "code",
   "execution_count": 8,
   "metadata": {
    "collapsed": false
   },
   "outputs": [
    {
     "name": "stdout",
     "output_type": "stream",
     "text": [
      "boxes, filename: 2\n",
      "boxes, filename: 2\n"
     ]
    },
    {
     "data": {
      "text/plain": [
       "[{'boxes': [{'height': 219.0,\n",
       "    'label': 1.0,\n",
       "    'left': 246.0,\n",
       "    'top': 77.0,\n",
       "    'width': 81.0},\n",
       "   {'height': 219.0, 'label': 9.0, 'left': 323.0, 'top': 81.0, 'width': 96.0}],\n",
       "  'filename': '1.png'},\n",
       " {'boxes': [{'height': 32.0,\n",
       "    'label': 2.0,\n",
       "    'left': 77.0,\n",
       "    'top': 29.0,\n",
       "    'width': 23.0},\n",
       "   {'height': 32.0, 'label': 3.0, 'left': 98.0, 'top': 25.0, 'width': 26.0}],\n",
       "  'filename': '2.png'}]"
      ]
     },
     "execution_count": 8,
     "metadata": {},
     "output_type": "execute_result"
    }
   ],
   "source": [
    "#test for  the purpose  of the analysis of dataset.\n",
    "print(\"boxes, filename:\",len(train_data[0]))\n",
    "print(\"boxes, filename:\",len(train_data[1]))\n",
    "#print out  train_data from element0 to element1(2 dataset)\n",
    "train_data[0:2]"
   ]
  },
  {
   "cell_type": "code",
   "execution_count": 9,
   "metadata": {
    "collapsed": false
   },
   "outputs": [
    {
     "name": "stdout",
     "output_type": "stream",
     "text": [
      "33402\n",
      "{'boxes': [{'width': 81.0, 'top': 77.0, 'label': 1.0, 'left': 246.0, 'height': 219.0}, {'width': 96.0, 'top': 81.0, 'label': 9.0, 'left': 323.0, 'height': 219.0}], 'filename': '1.png'}\n",
      "**************************************************\n",
      "train_data[0]['boxes']:\n",
      " [{'width': 81.0, 'top': 77.0, 'label': 1.0, 'left': 246.0, 'height': 219.0}, {'width': 96.0, 'top': 81.0, 'label': 9.0, 'left': 323.0, 'height': 219.0}]\n",
      "******************** same following two (dictionary) **************\n",
      "train_data[0]['boxes'][0]:\n",
      " {'width': 81.0, 'top': 77.0, 'label': 1.0, 'left': 246.0, 'height': 219.0}\n",
      "train_data[0]['boxes'][1]:\n",
      " {'width': 96.0, 'top': 81.0, 'label': 9.0, 'left': 323.0, 'height': 219.0}\n",
      "train_data[0]['boxes'][1]['width']:\n",
      " 96.0\n",
      "******************************\n",
      "width\n",
      "top\n",
      "label\n",
      "left\n",
      "height\n",
      "96.0\n",
      "81.0\n",
      "9.0\n",
      "323.0\n",
      "219.0\n"
     ]
    }
   ],
   "source": [
    "#test\n",
    "print(len(train_data))\n",
    "print(train_data[0])\n",
    "print(\"*\"*50)\n",
    "print(\"train_data[0]['boxes']:\\n\",train_data[0]['boxes'])\n",
    "print(\"*\"*20,\"same following two (dictionary) **************\")\n",
    "print(\"train_data[0]['boxes'][0]:\\n\",train_data[0]['boxes'][0])\n",
    "print(\"train_data[0]['boxes'][1]:\\n\",train_data[0]['boxes'][1])\n",
    "print(\"train_data[0]['boxes'][1]['width']:\\n\",train_data[0]['boxes'][1]['width'])\n",
    "print(\"*\"*30)\n",
    "for e in train_data[0]['boxes'][1].keys():\n",
    "    print (e)\n",
    "for e in train_data[0]['boxes'][1].values():\n",
    "    print (e)\n",
    "#print(train_data[0][[1,2,3,4]])\n",
    "#print(extra_data[0][[1,2,3,4]])"
   ]
  },
  {
   "cell_type": "code",
   "execution_count": 10,
   "metadata": {
    "collapsed": false
   },
   "outputs": [
    {
     "name": "stdout",
     "output_type": "stream",
     "text": [
      "[9.0, 3.0, 5.0, 3.0, 1.0, 3.0]\n",
      "**************************************************\n",
      "1.0\n",
      "2.0\n",
      "2.0\n",
      "9.0\n",
      "3.0\n",
      "3.0\n"
     ]
    }
   ],
   "source": [
    "#test\n",
    "\n",
    "my_list=[]\n",
    "for i in xrange(6):\n",
    "    my_list.append(train_data[i]['boxes'][1]['label'])\n",
    "print(my_list)   \n",
    "print(\"*\"*50)\n",
    "for i in xrange(6):\n",
    "    print(train_data[i]['boxes'][0]['label'])\n"
   ]
  },
  {
   "cell_type": "code",
   "execution_count": 11,
   "metadata": {
    "collapsed": false
   },
   "outputs": [
    {
     "name": "stdout",
     "output_type": "stream",
     "text": [
      "[1.0, 9.0]\n",
      "train_data[0]['filename']: 1.png\n"
     ]
    }
   ],
   "source": [
    "#test \n",
    "my_list1=[]\n",
    "for i in xrange(2):\n",
    "#     for j in xrange(5):\n",
    "        my_list1.append(train_data[0]['boxes'][i]['label'])\n",
    "print(my_list1)        \n",
    "print(\"train_data[0]['filename']:\",train_data[0]['filename'])"
   ]
  },
  {
   "cell_type": "code",
   "execution_count": 12,
   "metadata": {
    "collapsed": false
   },
   "outputs": [
    {
     "data": {
      "text/plain": [
       "{'boxes': [{'height': 219.0,\n",
       "   'label': 1.0,\n",
       "   'left': 246.0,\n",
       "   'top': 77.0,\n",
       "   'width': 81.0},\n",
       "  {'height': 219.0, 'label': 9.0, 'left': 323.0, 'top': 81.0, 'width': 96.0}],\n",
       " 'filename': '1.png'}"
      ]
     },
     "execution_count": 12,
     "metadata": {},
     "output_type": "execute_result"
    }
   ],
   "source": [
    "#test 1stt element of train_data structure \n",
    "train_data[0] #print(len(train_data[0])) : output is 2"
   ]
  },
  {
   "cell_type": "code",
   "execution_count": 13,
   "metadata": {
    "collapsed": false
   },
   "outputs": [],
   "source": [
    "#test_data creation from digitSturct.mat\n",
    "fin = os.path.join(test_folders, 'digitStruct.mat')\n",
    "dsf = DigitStructFile(fin)\n",
    "test_data = dsf.getAllDigitStructure_ByDigit()"
   ]
  },
  {
   "cell_type": "code",
   "execution_count": 14,
   "metadata": {
    "collapsed": false
   },
   "outputs": [
    {
     "data": {
      "text/plain": [
       "{'boxes': [{'height': 30.0,\n",
       "   'label': 5.0,\n",
       "   'left': 43.0,\n",
       "   'top': 7.0,\n",
       "   'width': 19.0}],\n",
       " 'filename': '1.png'}"
      ]
     },
     "execution_count": 14,
     "metadata": {},
     "output_type": "execute_result"
    }
   ],
   "source": [
    "#test for test_data,  first element's contents\n",
    "test_data[0]"
   ]
  },
  {
   "cell_type": "code",
   "execution_count": 17,
   "metadata": {
    "collapsed": false
   },
   "outputs": [],
   "source": [
    "#extra_data creation from digitSturct.mat\n",
    "fin = os.path.join(extra_folders, 'digitStruct.mat')\n",
    "dsf = DigitStructFile(fin)\n",
    "extra_data = dsf.getAllDigitStructure_ByDigit()\n"
   ]
  },
  {
   "cell_type": "code",
   "execution_count": 18,
   "metadata": {
    "collapsed": false,
    "scrolled": true
   },
   "outputs": [],
   "source": [
    "#!pip install image"
   ]
  },
  {
   "cell_type": "code",
   "execution_count": 19,
   "metadata": {
    "collapsed": false
   },
   "outputs": [],
   "source": [
    "from PIL import Image\n",
    "train_imsize = np.ndarray([len(train_data),2])  #random num:(33402,2)\n",
    "for i in np.arange(len(train_data)): #33402\n",
    "    filename = train_data[i]['filename']  #train_data[0]['filename']:1.png\n",
    "    fullname = os.path.join(train_folders, filename)\n",
    "    im = Image.open(fullname)\n",
    "    train_imsize[i, :] = im.size[:] \n"
   ]
  },
  {
   "cell_type": "code",
   "execution_count": 20,
   "metadata": {
    "collapsed": false
   },
   "outputs": [
    {
     "name": "stdout",
     "output_type": "stream",
     "text": [
      "max num along column 0: 876.0 , max num along column 1: 501.0\n",
      "min num along column 0: 25.0 , min num along column 1: 12.0\n"
     ]
    }
   ],
   "source": [
    "print(\"max num along column 0:\",np.amax(train_imsize[:,0]), \n",
    "      \", max num along column 1:\",np.amax(train_imsize[:,1]))\n",
    "print(\"min num along column 0:\",np.amin(train_imsize[:,0]),\n",
    "       \", min num along column 1:\",np.amin(train_imsize[:,1]))"
   ]
  },
  {
   "cell_type": "code",
   "execution_count": 21,
   "metadata": {
    "collapsed": false
   },
   "outputs": [
    {
     "name": "stdout",
     "output_type": "stream",
     "text": [
      "train_imsize = np.ndarray([len(train_data),2])::(33402,2):\n",
      " [[  6.93955345e-310   6.93955345e-310]\n",
      " [  2.39935479e-315   2.39935479e-315]\n",
      " [  1.09341629e-316   1.09341510e-316]\n",
      " ..., \n",
      " [  3.38526666e-316   3.38526547e-316]\n",
      " [  3.38526429e-316   3.38526310e-316]\n",
      " [  3.38526192e-316   3.38526073e-316]]\n",
      "train_data[i]['filename']: 1.png\n",
      "full1 name of image file: train/1.png\n",
      "<PIL.PngImagePlugin.PngImageFile image mode=RGB size=113x41 at 0x7FBE8D7B2ED0>\n",
      "train_imsize[0, :]: [ 113.   41.]\n",
      "len(train_imsize[:,0]): 33402\n",
      "train_imsize[:3,0]: [ 113.  199.   52.]\n",
      "len(train_imsize[:,1]): 33402\n",
      "train_imsize[:3,1]: [ 41.  83.  23.]\n"
     ]
    }
   ],
   "source": [
    "#test\n",
    "from PIL import Image\n",
    "print(\"train_imsize = np.ndarray([len(train_data),2])::(33402,2):\\n\",\n",
    "      np.ndarray([len(train_data),2])) #(33402,2)\n",
    "i=0\n",
    "f1=train_data[i]['filename']\n",
    "print(\"train_data[i]['filename']:\",f1)\n",
    "full1=os.path.join(train_folders, f1)\n",
    "print(\"full1 name of image file:\",full1)\n",
    "im=Image.open(fullname)\n",
    "print(im)\n",
    "train_imsize[i, :] = im.size[:] #random num:(33402,2) from above  cell\n",
    "print(\"train_imsize[0, :]:\",train_imsize[i, :])\n",
    "print(\"len(train_imsize[:,0]):\",len(train_imsize[:, 0]))\n",
    "print(\"train_imsize[:3,0]:\",train_imsize[:3, 0])\n",
    "print(\"len(train_imsize[:,1]):\",len(train_imsize[:, 1]))\n",
    "print(\"train_imsize[:3,1]:\",train_imsize[:3, 1])"
   ]
  },
  {
   "cell_type": "code",
   "execution_count": 22,
   "metadata": {
    "collapsed": false
   },
   "outputs": [
    {
     "name": "stdout",
     "output_type": "stream",
     "text": [
      "max num along column 0: 1083.0 , max num along column 1: 516.0\n",
      "min num along column 0: 31.0 , min num along column 1: 13.0\n"
     ]
    }
   ],
   "source": [
    "test_imsize = np.ndarray([len(test_data),2]) #random num:(33402,2)\n",
    "for i in np.arange(len(test_data)): #33402\n",
    "    filename = test_data[i]['filename'] #train_data[0]['filename']:1.png\n",
    "    fullname = os.path.join(test_folders, filename)\n",
    "    im = Image.open(fullname)\n",
    "    test_imsize[i, :] = im.size[:]\n",
    "#maximum number among all elements in column 0 and maximum number in column 1\n",
    "print(\"max num along column 0:\",np.amax(test_imsize[:,0]), \n",
    "      \", max num along column 1:\",np.amax(test_imsize[:,1]))\n",
    "#minimum number among all elements in column 0 and minimum number in column 1\n",
    "print(\"min num along column 0:\",np.amin(test_imsize[:,0]), \n",
    "      \", min num along column 1:\",np.amin(test_imsize[:,1]))"
   ]
  },
  {
   "cell_type": "code",
   "execution_count": 23,
   "metadata": {
    "collapsed": false
   },
   "outputs": [
    {
     "name": "stdout",
     "output_type": "stream",
     "text": [
      "max num along column 0: 668.0 , max num along column 1: 415.0\n",
      "min num along column 0: 22.0 , min num along column 1: 13.0\n"
     ]
    }
   ],
   "source": [
    "extra_imsize = np.ndarray([len(extra_data),2])\n",
    "for i in np.arange(len(extra_data)):\n",
    "    filename = extra_data[i]['filename']\n",
    "    fullname = os.path.join(extra_folders, filename)\n",
    "    im = Image.open(fullname)\n",
    "    extra_imsize[i, :] = im.size[:]\n",
    "#maximum number among all elements in column 0 and maximum number in column 1\n",
    "print(\"max num along column 0:\",np.amax(extra_imsize[:,0]), \n",
    "      \", max num along column 1:\",np.amax(extra_imsize[:,1]))\n",
    "#minimum number among all elements in column 0 and minimum number in column 1\n",
    "print(\"min num along column 0:\",np.amin(extra_imsize[:,0]), \n",
    "      \", min num along column 1:\",np.amin(extra_imsize[:,1]))"
   ]
  },
  {
   "cell_type": "code",
   "execution_count": 24,
   "metadata": {
    "collapsed": false,
    "scrolled": true
   },
   "outputs": [
    {
     "name": "stdout",
     "output_type": "stream",
     "text": [
      "(array([  410,  4163, 15855, 30484]),)\n",
      "(array([9747]),)\n",
      "(array([ 1722,  2949,  6233, 12862]),)\n",
      "(array([  459,  5352,  7776, 11257, 12191]),)\n",
      "(array([ 32352,  78946, 104221, 191787, 198954]),)\n",
      "(array([ 19731,  25534,  56510, 110583, 127903, 165055, 183311, 184799,\n",
      "       193713, 195221]),)\n"
     ]
    }
   ],
   "source": [
    "#test\n",
    "print(np.where(train_imsize[:,0]==876))\n",
    "print(np.where(train_imsize[:,0]==25))\n",
    "print(np.where(test_imsize[:,0]==1083))\n",
    "print(np.where(test_imsize[:,0]==31))\n",
    "print(np.where(extra_imsize[:,0]==668))\n",
    "print(np.where(extra_imsize[:,0]==22))"
   ]
  },
  {
   "cell_type": "code",
   "execution_count": 25,
   "metadata": {
    "collapsed": false
   },
   "outputs": [
    {
     "name": "stdout",
     "output_type": "stream",
     "text": [
      "len(train_data[0]['boxes']): 2\n",
      "train_data[0]:\n",
      " {'boxes': [{'width': 81.0, 'top': 77.0, 'label': 1.0, 'left': 246.0, 'height': 219.0}, {'width': 96.0, 'top': 81.0, 'label': 9.0, 'left': 323.0, 'height': 219.0}], 'filename': '1.png'}\n",
      "len(train_data[4440]['boxes']): 3\n",
      "train_data[4440]:\n",
      " {'boxes': [{'width': 14.0, 'top': 20.0, 'label': 1.0, 'left': 65.0, 'height': 35.0}, {'width': 20.0, 'top': 19.0, 'label': 2.0, 'left': 80.0, 'height': 35.0}, {'width': 19.0, 'top': 20.0, 'label': 4.0, 'left': 100.0, 'height': 35.0}], 'filename': '4441.png'}\n",
      "2\n",
      "2\n",
      "2\n",
      "[ -1.10116082e+32   4.58252624e-41]\n"
     ]
    }
   ],
   "source": [
    "#test for train_data contnets\n",
    "print(\"len(train_data[0]['boxes']):\",len(train_data[0]['boxes']))\n",
    "print(\"train_data[0]:\\n\",train_data[0])\n",
    "print(\"len(train_data[4440]['boxes']):\",len(train_data[4440]['boxes']))\n",
    "print(\"train_data[4440]:\\n\",train_data[4440])\n",
    "for i in xrange(3):\n",
    "    print(len(train_data[i]['boxes'])) # now 2 but  it can be 1,2,3,4\n",
    "print(np.ndarray([len(train_data[i]['boxes'])], dtype='float32'))#np.ndarray([2],dtype=f)"
   ]
  },
  {
   "cell_type": "markdown",
   "metadata": {},
   "source": [
    "#### Following graph shows almost of number of digit charcters are spread from 1  to  5 number characters. It is optimal to train 1,2,3,4,5 number of  characters.\n"
   ]
  },
  {
   "cell_type": "code",
   "execution_count": 26,
   "metadata": {
    "collapsed": false
   },
   "outputs": [
    {
     "name": "stdout",
     "output_type": "stream",
     "text": [
      "Number of character:corresponding frequncy -  Counter({2: 18130, 3: 8691, 1: 5137, 4: 1434, 5: 9, 6: 1})\n"
     ]
    },
    {
     "data": {
      "image/png": "[encoded data removed]",
      "text/plain": [
       "<matplotlib.figure.Figure at 0x7fbe8ce819d0>"
      ]
     },
     "metadata": {},
     "output_type": "display_data"
    }
   ],
   "source": [
    "from collections import Counter\n",
    "digit_length_list=[]\n",
    "for  i in xrange(len(train_data)): #33402\n",
    "    digit_length_list.append(len(train_data[i]['boxes']))  \n",
    "digit_count=Counter(digit_length_list)  \n",
    "print(\"Number of character:corresponding frequncy - \",digit_count) \n",
    "l = plt.bar(digit_count.keys(), digit_count.values(), 1, color=\"blue\")\n",
    "\n",
    "plt.xlabel('Number of characters')\n",
    "plt.ylabel('Sample Size')\n",
    "plt.grid(True)\n",
    "plt.title('Training Dataset')\n",
    "\n",
    "plt.show()\n"
   ]
  },
  {
   "cell_type": "code",
   "execution_count": 27,
   "metadata": {
    "collapsed": false
   },
   "outputs": [
    {
     "name": "stdout",
     "output_type": "stream",
     "text": [
      "Number of character:corresponding frequncy -  Counter({2: 8356, 1: 2483, 3: 2081, 4: 146, 5: 2})\n"
     ]
    },
    {
     "data": {
      "image/png": "[encoded data removed]",
      "text/plain": [
       "<matplotlib.figure.Figure at 0x7fbe91d1b190>"
      ]
     },
     "metadata": {},
     "output_type": "display_data"
    }
   ],
   "source": [
    "from collections import Counter\n",
    "digit_length_list=[]\n",
    "for  i in xrange(len(test_data)): #33402\n",
    "    digit_length_list.append(len(test_data[i]['boxes']))   \n",
    "digit_count=Counter(digit_length_list)  \n",
    "print(\"Number of character:corresponding frequncy - \",digit_count) \n",
    "l = plt.bar(digit_count.keys(), digit_count.values(), 1, color=\"green\")\n",
    "\n",
    "plt.xlabel('Number of characters')\n",
    "plt.ylabel('Sample Size')\n",
    "plt.grid(True)\n",
    "plt.title('Test Dataset')\n",
    "\n",
    "plt.show()"
   ]
  },
  {
   "cell_type": "code",
   "execution_count": 28,
   "metadata": {
    "collapsed": false
   },
   "outputs": [
    {
     "name": "stdout",
     "output_type": "stream",
     "text": [
      "Number of character:corresponding frequncy -  Counter({3: 106789, 2: 71726, 4: 14338, 1: 9385, 5: 115})\n"
     ]
    },
    {
     "data": {
      "image/png": "[encoded data removed]",
      "text/plain": [
       "<matplotlib.figure.Figure at 0x7fbe8df6ba10>"
      ]
     },
     "metadata": {},
     "output_type": "display_data"
    }
   ],
   "source": [
    "from collections import Counter\n",
    "digit_length_list=[]\n",
    "for  i in xrange(len(extra_data)): #33402\n",
    "    digit_length_list.append(len(extra_data[i]['boxes']))   \n",
    "digit_count=Counter(digit_length_list) \n",
    "print(\"Number of character:corresponding frequncy - \",digit_count) \n",
    "l = plt.bar(digit_count.keys(), digit_count.values(), 1, color=\"purple\")\n",
    "\n",
    "plt.xlabel('Number of characters')\n",
    "plt.ylabel('Sample Size')\n",
    "plt.grid(True)\n",
    "plt.title('Extra Dataset')\n",
    "\n",
    "plt.show()"
   ]
  },
  {
   "cell_type": "code",
   "execution_count": 29,
   "metadata": {
    "collapsed": false
   },
   "outputs": [
    {
     "name": "stdout",
     "output_type": "stream",
     "text": [
      "# 29929 image has more than 5 digits.\n",
      "(33402, 32, 32, 1) (33402, 6)\n",
      "(13068, 32, 32, 1) (13068, 6)\n",
      "(202353, 32, 32, 1) (202353, 6)\n"
     ]
    }
   ],
   "source": [
    "import PIL.Image as Image\n",
    "#generate dataset to fit for training and specific weights are applied to convet  to grayscale. \n",
    "def generate_dataset(data, folder):\n",
    "    \n",
    "    #len(train_data):33402,len(test_data):13068,len(extra):202353\n",
    "    dataset = np.ndarray([len(data),32,32,1], dtype='float32') #train (33402,32.32,1)\n",
    "    labels = np.ones([len(data),6], dtype=int) * 10 #train: (33402,6)\n",
    "    #for  loop : i element, j boxes in i element.\n",
    "    for i in np.arange(len(data)):\n",
    "        filename = data[i]['filename']\n",
    "        fullname = os.path.join(folder, filename)\n",
    "        im = Image.open(fullname)\n",
    "        boxes = data[i]['boxes']\n",
    "        num_digit = len(boxes)  #i=0, len(boxes) =2, it  can be 1,2,3,4\n",
    "        #initialize with number of boxes or digit  number.\n",
    "        labels[i,0] = num_digit #now:labels[0,0]=2,next loop: labels[1,0]=2, labels[2,0]=2\n",
    "        top = np.ndarray([num_digit], dtype='float32') #ndarray([2], dtype='float32')\n",
    "        left = np.ndarray([num_digit], dtype='float32')\n",
    "        height = np.ndarray([num_digit], dtype='float32')\n",
    "        width = np.ndarray([num_digit], dtype='float32')\n",
    "        for j in np.arange(num_digit):  #i=0, len(boxes) =2, it  can be 1,2,3,4\n",
    "            if j < 5:  \n",
    "    #From above train_data of test cell. Value of each train_data is as follow.         \n",
    "    #i=0,j=0:labels[0,1]=boxes[0]['label']=data[0]['boxes'][0]['label']=1.0\n",
    "    #i=0,j=1:labels[0,2]=boxes[1]['label']=data[0]['boxes'][1]['label']=9.0\n",
    "    #i=4440,j=0:labels[4440,1]=boxes[0]['label']=data[4440]['boxes'][0]['label']=1.0\n",
    "    #i=4440,j=1:labels[4440,2]=boxes[1]['label']=data[4440]['boxes'][1]['label']=2.0\n",
    "    #i=4440,j=2:labels[4440,3]=boxes[2]['label']=data[4440]['boxes'][2]['label']=4.0\n",
    "                labels[i,j+1] = boxes[j]['label'] \n",
    "                if boxes[j]['label'] == 10: labels[i,j+1] = 0  \n",
    "            else: print('#',i,'image has more than 5 digits.')\n",
    "    #i=0,j=0: top[0] = boxes[0]['top'] =77.0\n",
    "    #i=0,j=1: top[0] = boxes[1]['top'] =81.0           \n",
    "            top[j] = boxes[j]['top']\n",
    "            left[j] = boxes[j]['left']\n",
    "            height[j] = boxes[j]['height']\n",
    "            width[j] = boxes[j]['width']\n",
    "        \n",
    "        im_top = np.amin(top)    #minimum value among list top\n",
    "        im_left = np.amin(left)  #minimum value among list left\n",
    "        im_height = np.amax(top) + height[np.argmax(top)] - im_top\n",
    "        im_width = np.amax(left) + width[np.argmax(left)] - im_left\n",
    "        \n",
    "        im_top = np.floor(im_top - 0.1 * im_height)\n",
    "        im_left = np.floor(im_left - 0.1 * im_width)\n",
    "        im_bottom = np.amin([np.ceil(im_top + 1.2 * im_height), im.size[1]])\n",
    "        im_right = np.amin([np.ceil(im_left + 1.2 * im_width), im.size[0]])\n",
    "        #To convert from RGB to grayscale, weights(0.2989, 0.5870, 0.1140) out to be applied to channels R, G, and B.\n",
    "        im = im.crop((im_left, im_top, im_right, im_bottom)).resize([32,32], Image.ANTIALIAS)\n",
    "        im = np.dot(np.array(im, dtype='float32'), [[0.2989],[0.5870],[0.1140]])\n",
    "        mean = np.mean(im, dtype='float32')\n",
    "        std = np.std(im, dtype='float32', ddof=1)\n",
    "        if std < 1e-4: std = 1. \n",
    "        im = (im - mean) / std\n",
    "        dataset[i,:,:,:] = im[:,:,:]\n",
    "\n",
    "    return dataset, labels\n",
    "\n",
    "train_dataset, train_labels = generate_dataset(train_data, train_folders)\n",
    "print(train_dataset.shape, train_labels.shape)\n",
    "\n",
    "test_dataset, test_labels = generate_dataset(test_data, test_folders)\n",
    "print(test_dataset.shape, test_labels.shape)\n",
    "\n",
    "extra_dataset, extra_labels = generate_dataset(extra_data, extra_folders)\n",
    "print(extra_dataset.shape, extra_labels.shape)"
   ]
  },
  {
   "cell_type": "code",
   "execution_count": 30,
   "metadata": {
    "collapsed": false
   },
   "outputs": [],
   "source": [
    "train_dataset = np.delete(train_dataset, 29929, axis=0)\n",
    "train_labels = np.delete(train_labels, 29929, axis=0)\n"
   ]
  },
  {
   "cell_type": "code",
   "execution_count": 31,
   "metadata": {
    "collapsed": false
   },
   "outputs": [
    {
     "name": "stdout",
     "output_type": "stream",
     "text": [
      "(33401, 32, 32, 1) (33401, 6)\n"
     ]
    }
   ],
   "source": [
    "print(train_dataset.shape, train_labels.shape)\n"
   ]
  },
  {
   "cell_type": "code",
   "execution_count": 32,
   "metadata": {
    "collapsed": false
   },
   "outputs": [
    {
     "name": "stdout",
     "output_type": "stream",
     "text": [
      "(230070, 32, 32, 1) (230070, 6)\n",
      "(13068, 32, 32, 1) (13068, 6)\n",
      "(5684, 32, 32, 1) (5684, 6)\n"
     ]
    }
   ],
   "source": [
    "import random\n",
    "\n",
    "random.seed()\n",
    "\n",
    "n_labels = 10\n",
    "valid_index = []\n",
    "valid_index2 = []\n",
    "train_index = []\n",
    "train_index2 = []\n",
    "for i in np.arange(n_labels):\n",
    "    valid_index.extend(np.where(train_labels[:,1] == (i))[0][:400].tolist())\n",
    "    train_index.extend(np.where(train_labels[:,1] == (i))[0][400:].tolist())\n",
    "    valid_index2.extend(np.where(extra_labels[:,1] == (i))[0][:200].tolist())\n",
    "    train_index2.extend(np.where(extra_labels[:,1] == (i))[0][200:].tolist())\n",
    "\n",
    "random.shuffle(valid_index)\n",
    "random.shuffle(train_index)\n",
    "random.shuffle(valid_index2)\n",
    "random.shuffle(train_index2)\n",
    "\n",
    "valid_dataset = np.concatenate((extra_dataset[valid_index2,:,:,:], train_dataset[valid_index,:,:,:]), axis=0)\n",
    "valid_labels = np.concatenate((extra_labels[valid_index2,:], train_labels[valid_index,:]), axis=0)\n",
    "train_dataset_t = np.concatenate((extra_dataset[train_index2,:,:,:], train_dataset[train_index,:,:,:]), axis=0)\n",
    "train_labels_t = np.concatenate((extra_labels[train_index2,:], train_labels[train_index,:]), axis=0)\n",
    "\n",
    "print(train_dataset_t.shape, train_labels_t.shape)\n",
    "print(test_dataset.shape, test_labels.shape)\n",
    "print(valid_dataset.shape, valid_labels.shape)"
   ]
  },
  {
   "cell_type": "code",
   "execution_count": 33,
   "metadata": {
    "collapsed": false
   },
   "outputs": [
    {
     "name": "stdout",
     "output_type": "stream",
     "text": [
      "Compressed pickle size: 1031118824\n"
     ]
    }
   ],
   "source": [
    "pickle_file = 'SVHN_multi.pickle'\n",
    "\n",
    "try:\n",
    "  f = open(pickle_file, 'wb')\n",
    "  save = {\n",
    "    'train_dataset': train_dataset_t,\n",
    "    'train_labels': train_labels_t,\n",
    "    'valid_dataset': valid_dataset,\n",
    "    'valid_labels': valid_labels,\n",
    "    'test_dataset': test_dataset,\n",
    "    'test_labels': test_labels,\n",
    "    }\n",
    "  pickle.dump(save, f, pickle.HIGHEST_PROTOCOL)\n",
    "  f.close()\n",
    "except Exception as e:\n",
    "  print('Unable to save data to', pickle_file, ':', e)\n",
    "  raise\n",
    "    \n",
    "statinfo = os.stat(pickle_file)\n",
    "print('Compressed pickle size:', statinfo.st_size)"
   ]
  }
 ],
 "metadata": {
  "anaconda-cloud": {},
  "kernelspec": {
   "display_name": "Python [Root]",
   "language": "python",
   "name": "Python [Root]"
  },
  "language_info": {
   "codemirror_mode": {
    "name": "ipython",
    "version": 2
   },
   "file_extension": ".py",
   "mimetype": "text/x-python",
   "name": "python",
   "nbconvert_exporter": "python",
   "pygments_lexer": "ipython2",
   "version": "2.7.12"
  }
 },
 "nbformat": 4,
 "nbformat_minor": 0
}
